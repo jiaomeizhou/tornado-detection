{
 "cells": [
  {
   "cell_type": "markdown",
   "id": "d08a0bbd-ff7b-41f5-a9a2-cd73c4909473",
   "metadata": {},
   "source": [
    "# MobileNetV2\n",
    "\n",
    "This notebook trains the MobileNetV2 model."
   ]
  },
  {
   "cell_type": "markdown",
   "id": "7e10c812",
   "metadata": {},
   "source": [
    "## Part 1 - Training the Model"
   ]
  },
  {
   "cell_type": "markdown",
   "id": "12a3573c",
   "metadata": {},
   "source": [
    "### Importing the libraries"
   ]
  },
  {
   "cell_type": "code",
   "execution_count": 1,
   "id": "877ea040",
   "metadata": {},
   "outputs": [],
   "source": [
    "import sys\n",
    "# Uncomment if tornet isn't installed in your environment or in your path already\n",
    "sys.path.append('../')  "
   ]
  },
  {
   "cell_type": "code",
   "execution_count": 2,
   "id": "4c59aced-a4b8-4045-aea7-8faf85e84bf2",
   "metadata": {},
   "outputs": [],
   "source": [
    "import sys\n",
    "import os\n",
    "import numpy as np\n",
    "import json\n",
    "import shutil\n",
    "import keras\n",
    "import tensorflow as tf\n",
    "\n",
    "import logging\n",
    "logging.basicConfig(level=logging.INFO)\n",
    "\n",
    "from tornet.data.loader import get_dataloader\n",
    "from tornet.data.preprocess import get_shape\n",
    "from tornet.data.constants import ALL_VARIABLES\n",
    "from tornet.models.keras.losses import mae_loss\n",
    "from tornet.models.keras.mobilenet import build_model\n",
    "from tornet.metrics.keras import metrics as tfm\n",
    "from tornet.utils.general import make_exp_dir, make_callback_dirs\n"
   ]
  },
  {
   "cell_type": "markdown",
   "id": "9563e406",
   "metadata": {},
   "source": [
    "### Setting Up Environment Variables"
   ]
  },
  {
   "cell_type": "code",
   "execution_count": 3,
   "id": "1440ae04",
   "metadata": {},
   "outputs": [
    {
     "name": "stderr",
     "output_type": "stream",
     "text": [
      "INFO:root:TORNET_ROOT=../dataset\n"
     ]
    }
   ],
   "source": [
    "# os.environ['KERAS_BACKEND']='tensorflow' # set to 'tensorflow', 'torch' or 'jax' (installs required)\n",
    "os.environ['TORNET_ROOT'] = '../dataset'\n",
    "EXP_DIR=os.environ.get('EXP_DIR','.')\n",
    "DATA_ROOT=os.environ['TORNET_ROOT']\n",
    "logging.info('TORNET_ROOT='+DATA_ROOT)\n"
   ]
  },
  {
   "cell_type": "markdown",
   "id": "3f1af02f",
   "metadata": {},
   "source": [
    "### Setting Up CNN Configuration"
   ]
  },
  {
   "cell_type": "code",
   "execution_count": 4,
   "id": "7fe134e8",
   "metadata": {},
   "outputs": [],
   "source": [
    "DEFAULT_CONFIG={\n",
    "    'epochs':10,\n",
    "    'input_variables': ['DBZ',\n",
    "               'VEL',\n",
    "               'RHOHV',\n",
    "               'ZDR',\n",
    "               'WIDTH'],\n",
    "    'train_years':list(range(2021,2022)),\n",
    "    'val_years':list(range(2013,2014)),\n",
    "    'batch_size':16,\n",
    "    'model':'mobilenet',\n",
    "    'start_filters':48,\n",
    "    'learning_rate':1e-4,\n",
    "    'decay_steps':1386,\n",
    "    'decay_rate':0.958,\n",
    "    'l2_reg':1e-5,\n",
    "    'wN':1.0,\n",
    "    'w0':1.0,\n",
    "    'w1':1.0,\n",
    "    'w2':2.0,\n",
    "    'wW':0.5,\n",
    "    'label_smooth':0,\n",
    "    'loss':'cce',\n",
    "    'head':'maxpool',\n",
    "    'exp_name':'tornet-mobilenet',\n",
    "    'exp_dir':EXP_DIR,\n",
    "    'dataloader':\"keras\",\n",
    "    'dataloader_kwargs': {}\n",
    "}"
   ]
  },
  {
   "cell_type": "markdown",
   "id": "f21c6889",
   "metadata": {},
   "source": [
    "### Building the Model"
   ]
  },
  {
   "cell_type": "code",
   "execution_count": 5,
   "id": "a6ce0587",
   "metadata": {},
   "outputs": [
    {
     "name": "stdout",
     "output_type": "stream",
     "text": [
      "WARNING:tensorflow:From c:\\Users\\zhouj\\AppData\\Local\\Programs\\Python\\Python310\\lib\\site-packages\\keras\\src\\backend\\common\\global_state.py:82: The name tf.reset_default_graph is deprecated. Please use tf.compat.v1.reset_default_graph instead.\n",
      "\n"
     ]
    },
    {
     "name": "stderr",
     "output_type": "stream",
     "text": [
      "WARNING:tensorflow:From c:\\Users\\zhouj\\AppData\\Local\\Programs\\Python\\Python310\\lib\\site-packages\\keras\\src\\backend\\common\\global_state.py:82: The name tf.reset_default_graph is deprecated. Please use tf.compat.v1.reset_default_graph instead.\n",
      "\n"
     ]
    }
   ],
   "source": [
    "def train_keras_mobilenet_model(config):\n",
    "    # Gather all hyperparameters\n",
    "    epochs = config.get('epochs')\n",
    "    batch_size = config.get('batch_size')\n",
    "    start_filters = config.get('start_filters')\n",
    "    learning_rate = config.get('learning_rate')\n",
    "    decay_steps = config.get('decay_steps')\n",
    "    decay_rate = config.get('decay_rate')\n",
    "    l2_reg = config.get('l2_reg')\n",
    "    wN = config.get('wN')\n",
    "    w0 = config.get('w0')\n",
    "    w1 = config.get('w1')\n",
    "    w2 = config.get('w2')\n",
    "    wW = config.get('wW')\n",
    "    head = config.get('head')\n",
    "    label_smooth = config.get('label_smooth')\n",
    "    loss_fn = config.get('loss')\n",
    "    input_variables = config.get('input_variables')\n",
    "    exp_name = config.get('exp_name')\n",
    "    exp_dir = config.get('exp_dir')\n",
    "    train_years = config.get('train_years')\n",
    "    val_years = config.get('val_years')\n",
    "    dataloader = config.get('dataloader')\n",
    "    dataloader_kwargs = config.get('dataloader_kwargs')\n",
    "    input_variables = config.get('input_variables')\n",
    "\n",
    "    logging.info(f\"Using {tf.keras.backend.backend()} backend\")\n",
    "    logging.info(f'Using {dataloader} dataloader')\n",
    "    logging.info('Running with config:')\n",
    "    logging.info(config)\n",
    "\n",
    "    weights = {'wN': wN, 'w0': w0, 'w1': w1, 'w2': w2, 'wW': wW}\n",
    "\n",
    "    # Create data loaders\n",
    "    dataloader_kwargs = {'select_keys': input_variables + ['range_folded_mask', 'coordinates']}\n",
    "    ds_train = get_dataloader(dataloader, DATA_ROOT, train_years,\n",
    "                              \"train\", batch_size, weights, **dataloader_kwargs)\n",
    "    ds_val = get_dataloader(dataloader, DATA_ROOT, val_years,\n",
    "                            \"train\", batch_size, weights, **dataloader_kwargs)\n",
    "\n",
    "    in_shapes = (120, 240, 2)\n",
    "    c_shapes = (120, 240, 2)\n",
    "    nn = build_model(shape=in_shapes,\n",
    "                                   c_shape=c_shapes,\n",
    "                                   start_filters=start_filters,\n",
    "                                   l2_reg=l2_reg,\n",
    "                                   input_variables=input_variables,\n",
    "                                   head=head)\n",
    "\n",
    "    # Model setup\n",
    "    lr = tf.keras.optimizers.schedules.ExponentialDecay(\n",
    "        learning_rate, decay_steps, decay_rate, staircase=False, name=\"exp_decay\")\n",
    "\n",
    "    from_logits = True\n",
    "    if loss_fn.lower() == 'cce':\n",
    "        loss = tf.keras.losses.BinaryCrossentropy(from_logits=from_logits,\n",
    "                                                  label_smoothing=label_smooth)\n",
    "    elif loss_fn.lower() == 'hinge':\n",
    "        loss = tf.keras.losses.Hinge()  # automatically converts labels to -1,1\n",
    "    elif loss_fn.lower() == 'mae':\n",
    "        def loss(yt, yp): return mae_loss(yt, yp)\n",
    "    else:\n",
    "        raise RuntimeError('unknown loss %s' % loss_fn)\n",
    "\n",
    "    opt = tf.keras.optimizers.Adam(learning_rate=lr)\n",
    "\n",
    "    # Compute various metrics while training\n",
    "    metrics_list = [keras.metrics.AUC(from_logits=from_logits, name='AUC', num_thresholds=2000),\n",
    "               keras.metrics.AUC(from_logits=from_logits,\n",
    "                                 curve='PR', name='AUCPR', num_thresholds=2000),\n",
    "               tfm.BinaryAccuracy(from_logits, name='BinaryAccuracy'),\n",
    "               tfm.TruePositives(from_logits, name='TruePositives'),\n",
    "               tfm.FalsePositives(from_logits, name='FalsePositives'),\n",
    "               tfm.TrueNegatives(from_logits, name='TrueNegatives'),\n",
    "               tfm.FalseNegatives(from_logits, name='FalseNegatives'),\n",
    "               tfm.Precision(from_logits, name='Precision'),\n",
    "               tfm.Recall(from_logits, name='Recall'),\n",
    "               tfm.F1Score(from_logits=from_logits, name='F1')]\n",
    "\n",
    "    # Compile the model\n",
    "    nn.compile(loss=loss,\n",
    "               metrics=metrics_list,\n",
    "               optimizer=opt,\n",
    "               weighted_metrics=[])\n",
    "    \n",
    "    steps_per_epoch = len(ds_train) // batch_size\n",
    "    print(f\"steps_per_epoch: {steps_per_epoch}, len(ds_train): {len(ds_train)}, batch_size: {batch_size}\")\n",
    "    # FIT with ModelCheckpoint in callbacks\n",
    "    callbacks = []  # Add other callbacks here if necessary\n",
    "    nn.fit(ds_train, epochs=epochs, validation_data=ds_val, callbacks=callbacks, verbose=1)\n",
    "\n",
    "    # print ds_train\n",
    "    # print ds_val\n",
    "    print(ds_train)\n",
    "    return nn\n",
    "\n",
    "# Ensure the TensorFlow graph is reset if running in a notebook\n",
    "tf.keras.backend.clear_session()"
   ]
  },
  {
   "cell_type": "markdown",
   "id": "6321ad47",
   "metadata": {},
   "source": [
    "### Training the MobileNetV2 model"
   ]
  },
  {
   "cell_type": "code",
   "execution_count": 6,
   "id": "49a755db",
   "metadata": {},
   "outputs": [
    {
     "name": "stderr",
     "output_type": "stream",
     "text": [
      "INFO:root:Using tensorflow backend\n",
      "INFO:root:Using keras dataloader\n",
      "INFO:root:Running with config:\n",
      "INFO:root:{'epochs': 10, 'input_variables': ['DBZ', 'VEL', 'RHOHV', 'ZDR', 'WIDTH'], 'train_years': [2021], 'val_years': [2013], 'batch_size': 16, 'model': 'convnext', 'start_filters': 48, 'learning_rate': 0.0001, 'decay_steps': 1386, 'decay_rate': 0.958, 'l2_reg': 1e-05, 'wN': 1.0, 'w0': 1.0, 'w1': 1.0, 'w2': 2.0, 'wW': 0.5, 'label_smooth': 0, 'loss': 'cce', 'head': 'maxpool', 'exp_name': 'tornet_convnext', 'exp_dir': '.', 'dataloader': 'keras', 'dataloader_kwargs': {}}\n"
     ]
    },
    {
     "name": "stdout",
     "output_type": "stream",
     "text": [
      "steps_per_epoch: 74, len(ds_train): 1191, batch_size: 16\n",
      "Epoch 1/10\n",
      "\u001b[1m1191/1191\u001b[0m \u001b[32m━━━━━━━━━━━━━━━━━━━━\u001b[0m\u001b[37m\u001b[0m \u001b[1m953s\u001b[0m 785ms/step - AUC: 0.5185 - AUCPR: 0.0730 - BinaryAccuracy: 0.9115 - F1: 0.0000e+00 - FalseNegatives: 674.4144 - FalsePositives: 52.9471 - Precision: 0.0000e+00 - Recall: 0.0000e+00 - TrueNegatives: 8813.3193 - TruePositives: 0.0000e+00 - loss: 0.3176 - val_AUC: 0.5000 - val_AUCPR: 0.0941 - val_BinaryAccuracy: 0.9059 - val_F1: 0.0000e+00 - val_FalseNegatives: 329.0000 - val_FalsePositives: 0.0000e+00 - val_Precision: 0.0000e+00 - val_Recall: 0.0000e+00 - val_TrueNegatives: 3169.0000 - val_TruePositives: 0.0000e+00 - val_loss: 0.4083\n",
      "Epoch 2/10\n",
      "\u001b[1m1191/1191\u001b[0m \u001b[32m━━━━━━━━━━━━━━━━━━━━\u001b[0m\u001b[37m\u001b[0m \u001b[1m932s\u001b[0m 780ms/step - AUC: 0.6537 - AUCPR: 0.1093 - BinaryAccuracy: 0.9322 - F1: 0.0000e+00 - FalseNegatives: 659.3389 - FalsePositives: 0.0000e+00 - Precision: 0.0000e+00 - Recall: 0.0000e+00 - TrueNegatives: 8882.2441 - TruePositives: 0.0000e+00 - loss: 0.2702 - val_AUC: 0.5000 - val_AUCPR: 0.0941 - val_BinaryAccuracy: 0.9059 - val_F1: 0.0000e+00 - val_FalseNegatives: 329.0000 - val_FalsePositives: 0.0000e+00 - val_Precision: 0.0000e+00 - val_Recall: 0.0000e+00 - val_TrueNegatives: 3169.0000 - val_TruePositives: 0.0000e+00 - val_loss: 0.4670\n",
      "Epoch 3/10\n",
      "\u001b[1m1191/1191\u001b[0m \u001b[32m━━━━━━━━━━━━━━━━━━━━\u001b[0m\u001b[37m\u001b[0m \u001b[1m962s\u001b[0m 805ms/step - AUC: 0.7026 - AUCPR: 0.1347 - BinaryAccuracy: 0.9312 - F1: 0.0045 - FalseNegatives: 670.0511 - FalsePositives: 0.9438 - Precision: 0.4727 - Recall: 0.0022 - TrueNegatives: 8871.1660 - TruePositives: 0.9446 - loss: 0.2608 - val_AUC: 0.5000 - val_AUCPR: 0.0941 - val_BinaryAccuracy: 0.9059 - val_F1: 0.0000e+00 - val_FalseNegatives: 329.0000 - val_FalsePositives: 0.0000e+00 - val_Precision: 0.0000e+00 - val_Recall: 0.0000e+00 - val_TrueNegatives: 3169.0000 - val_TruePositives: 0.0000e+00 - val_loss: 0.5948\n",
      "Epoch 4/10\n",
      "\u001b[1m1191/1191\u001b[0m \u001b[32m━━━━━━━━━━━━━━━━━━━━\u001b[0m\u001b[37m\u001b[0m \u001b[1m1009s\u001b[0m 844ms/step - AUC: 0.7351 - AUCPR: 0.1706 - BinaryAccuracy: 0.9283 - F1: 0.0050 - FalseNegatives: 679.9841 - FalsePositives: 7.9161 - Precision: 0.1637 - Recall: 0.0025 - TrueNegatives: 8852.6211 - TruePositives: 2.0227 - loss: 0.2593 - val_AUC: 0.5000 - val_AUCPR: 0.0941 - val_BinaryAccuracy: 0.9059 - val_F1: 0.0000e+00 - val_FalseNegatives: 329.0000 - val_FalsePositives: 0.0000e+00 - val_Precision: 0.0000e+00 - val_Recall: 0.0000e+00 - val_TrueNegatives: 3169.0000 - val_TruePositives: 0.0000e+00 - val_loss: 0.6705\n",
      "Epoch 5/10\n",
      "\u001b[1m1191/1191\u001b[0m \u001b[32m━━━━━━━━━━━━━━━━━━━━\u001b[0m\u001b[37m\u001b[0m \u001b[1m1018s\u001b[0m 852ms/step - AUC: 0.7834 - AUCPR: 0.1865 - BinaryAccuracy: 0.9289 - F1: 0.0000e+00 - FalseNegatives: 677.6468 - FalsePositives: 0.0000e+00 - Precision: 0.0000e+00 - Recall: 0.0000e+00 - TrueNegatives: 8862.7324 - TruePositives: 0.0000e+00 - loss: 0.2423 - val_AUC: 0.4827 - val_AUCPR: 0.0880 - val_BinaryAccuracy: 0.9059 - val_F1: 0.0000e+00 - val_FalseNegatives: 329.0000 - val_FalsePositives: 0.0000e+00 - val_Precision: 0.0000e+00 - val_Recall: 0.0000e+00 - val_TrueNegatives: 3169.0000 - val_TruePositives: 0.0000e+00 - val_loss: 0.8110\n",
      "Epoch 6/10\n",
      "\u001b[1m1191/1191\u001b[0m \u001b[32m━━━━━━━━━━━━━━━━━━━━\u001b[0m\u001b[37m\u001b[0m \u001b[1m1090s\u001b[0m 912ms/step - AUC: 0.8176 - AUCPR: 0.2651 - BinaryAccuracy: 0.9283 - F1: 0.1272 - FalseNegatives: 617.3188 - FalsePositives: 66.2307 - Precision: 0.4114 - Recall: 0.0764 - TrueNegatives: 8813.4053 - TruePositives: 43.7768 - loss: 0.2212 - val_AUC: 0.6887 - val_AUCPR: 0.1881 - val_BinaryAccuracy: 0.9059 - val_F1: 0.0000e+00 - val_FalseNegatives: 329.0000 - val_FalsePositives: 0.0000e+00 - val_Precision: 0.0000e+00 - val_Recall: 0.0000e+00 - val_TrueNegatives: 3169.0000 - val_TruePositives: 0.0000e+00 - val_loss: 0.6740\n",
      "Epoch 7/10\n",
      "\u001b[1m1191/1191\u001b[0m \u001b[32m━━━━━━━━━━━━━━━━━━━━\u001b[0m\u001b[37m\u001b[0m \u001b[1m1148s\u001b[0m 961ms/step - AUC: 0.8595 - AUCPR: 0.3608 - BinaryAccuracy: 0.9261 - F1: 0.2725 - FalseNegatives: 540.9496 - FalsePositives: 157.2391 - Precision: 0.4553 - Recall: 0.1951 - TrueNegatives: 8708.1055 - TruePositives: 134.3574 - loss: 0.2039 - val_AUC: 0.7197 - val_AUCPR: 0.2052 - val_BinaryAccuracy: 0.9054 - val_F1: 0.0060 - val_FalseNegatives: 328.0000 - val_FalsePositives: 3.0000 - val_Precision: 0.2500 - val_Recall: 0.0030 - val_TrueNegatives: 3166.0000 - val_TruePositives: 1.0000 - val_loss: 0.4198\n",
      "Epoch 8/10\n",
      "\u001b[1m1191/1191\u001b[0m \u001b[32m━━━━━━━━━━━━━━━━━━━━\u001b[0m\u001b[37m\u001b[0m \u001b[1m1204s\u001b[0m 1s/step - AUC: 0.9073 - AUCPR: 0.5158 - BinaryAccuracy: 0.9395 - F1: 0.4681 - FalseNegatives: 422.9807 - FalsePositives: 168.8725 - Precision: 0.6071 - Recall: 0.3817 - TrueNegatives: 8702.6416 - TruePositives: 246.7357 - loss: 0.1694 - val_AUC: 0.7079 - val_AUCPR: 0.1879 - val_BinaryAccuracy: 0.9045 - val_F1: 0.0347 - val_FalseNegatives: 323.0000 - val_FalsePositives: 11.0000 - val_Precision: 0.3529 - val_Recall: 0.0182 - val_TrueNegatives: 3158.0000 - val_TruePositives: 6.0000 - val_loss: 0.5025\n",
      "Epoch 9/10\n",
      "\u001b[1m1191/1191\u001b[0m \u001b[32m━━━━━━━━━━━━━━━━━━━━\u001b[0m\u001b[37m\u001b[0m \u001b[1m1270s\u001b[0m 1s/step - AUC: 0.9474 - AUCPR: 0.7041 - BinaryAccuracy: 0.9562 - F1: 0.6447 - FalseNegatives: 306.2357 - FalsePositives: 146.1015 - Precision: 0.7442 - Recall: 0.5693 - TrueNegatives: 8724.2168 - TruePositives: 362.8641 - loss: 0.1272 - val_AUC: 0.6627 - val_AUCPR: 0.1580 - val_BinaryAccuracy: 0.8868 - val_F1: 0.0833 - val_FalseNegatives: 311.0000 - val_FalsePositives: 85.0000 - val_Precision: 0.1748 - val_Recall: 0.0547 - val_TrueNegatives: 3084.0000 - val_TruePositives: 18.0000 - val_loss: 0.6148\n",
      "Epoch 10/10\n",
      "\u001b[1m1191/1191\u001b[0m \u001b[32m━━━━━━━━━━━━━━━━━━━━\u001b[0m\u001b[37m\u001b[0m \u001b[1m1333s\u001b[0m 1s/step - AUC: 0.9700 - AUCPR: 0.8224 - BinaryAccuracy: 0.9657 - F1: 0.7409 - FalseNegatives: 217.4379 - FalsePositives: 138.5419 - Precision: 0.7880 - Recall: 0.7003 - TrueNegatives: 8730.2910 - TruePositives: 454.4731 - loss: 0.0963 - val_AUC: 0.6533 - val_AUCPR: 0.1480 - val_BinaryAccuracy: 0.8748 - val_F1: 0.1378 - val_FalseNegatives: 294.0000 - val_FalsePositives: 144.0000 - val_Precision: 0.1955 - val_Recall: 0.1064 - val_TrueNegatives: 3025.0000 - val_TruePositives: 35.0000 - val_loss: 0.5702\n"
     ]
    },
    {
     "name": "stderr",
     "output_type": "stream",
     "text": [
      "WARNING:absl:You are saving your model as an HDF5 file via `model.save()` or `keras.saving.save_model(model)`. This file format is considered legacy. We recommend using instead the native Keras format, e.g. `model.save('my_model.keras')` or `keras.saving.save_model(model, 'my_model.keras')`. \n"
     ]
    },
    {
     "name": "stdout",
     "output_type": "stream",
     "text": [
      "<tornet.data.keras.loader.KerasDataLoader object at 0x00000225F028E200>\n"
     ]
    }
   ],
   "source": [
    "mobilenet_model = train_keras_mobilenet_model(DEFAULT_CONFIG)\n",
    "mobilenet_model.save('mobilenet_5feature_model.h5')"
   ]
  },
  {
   "cell_type": "code",
   "execution_count": 7,
   "id": "3fec80d3",
   "metadata": {},
   "outputs": [],
   "source": [
    "mobilenet_model.save('mobilenet_5feature_model.keras')"
   ]
  },
  {
   "cell_type": "markdown",
   "id": "19c29e69",
   "metadata": {},
   "source": [
    "### Evaluating the Model"
   ]
  },
  {
   "cell_type": "code",
   "execution_count": 8,
   "id": "0a814da6-aca9-44df-b563-318351cf6dd1",
   "metadata": {},
   "outputs": [],
   "source": [
    "import sys\n",
    "# Uncomment if tornet isn't installed in your environment or in your path already\n",
    "sys.path.append('../')  \n",
    "\n",
    "import os\n",
    "import glob\n",
    "import numpy as np\n",
    "import pandas as pd\n",
    "import matplotlib.pyplot as plt\n",
    "import keras\n",
    "from tornet.metrics.keras import metrics as tfm\n",
    "import logging\n",
    "\n",
    "\n",
    "from tornet.data.keras.loader import KerasDataLoader\n"
   ]
  },
  {
   "cell_type": "code",
   "execution_count": 13,
   "id": "84506b12",
   "metadata": {},
   "outputs": [],
   "source": [
    "def get_subset_test_data(years, category):\n",
    "    # Create test samples\n",
    "    # Load full catalog and select EF 3+ tornadoes\n",
    "    os.environ['TORNET_ROOT'] = '../dataset'\n",
    "    data_root=os.environ['TORNET_ROOT']\n",
    "\n",
    "    catalog_path = os.path.join(data_root,'catalog.csv')\n",
    "    if not os.path.exists(catalog_path):\n",
    "        raise RuntimeError('Unable to find catalog.csv at '+data_root)\n",
    "            \n",
    "    catalog = pd.read_csv(catalog_path,parse_dates=['start_time','end_time'])\n",
    "\n",
    "    catalog = catalog[(catalog.start_time.dt.year.isin(years)) & (catalog['category'].isin(category))]\n",
    "    # catalog = catalog[(catalog.start_time.dt.year.isin([2021]))]\n",
    "\n",
    "    ds_test = KerasDataLoader(data_root=data_root,\n",
    "                            data_type='test',\n",
    "                            random_state=1234,\n",
    "                            catalog=catalog,\n",
    "                            batch_size = 64, \n",
    "                            use_multiprocessing = True)\n",
    "\n",
    "    return ds_test\n",
    "\n",
    "def evalate_model(model, ds_test):\n",
    "    # Evaluate the model\n",
    "    model = keras.models.load_model('mobilenet_5feature_model.keras')\n",
    "    # Compute various metrics\n",
    "    from_logits = True\n",
    "    metrics = [keras.metrics.AUC(from_logits=from_logits, name='AUC', num_thresholds=2000),\n",
    "               keras.metrics.AUC(from_logits=from_logits,\n",
    "                                 curve='PR', name='AUCPR', num_thresholds=2000),\n",
    "               tfm.BinaryAccuracy(from_logits, name='BinaryAccuracy'),\n",
    "               tfm.TruePositives(from_logits, name='TruePositives'),\n",
    "               tfm.FalsePositives(from_logits, name='FalsePositives'),\n",
    "               tfm.TrueNegatives(from_logits, name='TrueNegatives'),\n",
    "               tfm.FalseNegatives(from_logits, name='FalseNegatives'),\n",
    "               tfm.Precision(from_logits, name='Precision'),\n",
    "               tfm.Recall(from_logits, name='Recall'),\n",
    "               tfm.F1Score(from_logits=from_logits, name='F1')]\n",
    "    model.compile(metrics=metrics)\n",
    "\n",
    "    scores = model.evaluate(ds_test)\n",
    "    scores = {m.name: scores[k+1] for k, m in enumerate(metrics)}\n",
    "\n",
    "    logging.info(scores)"
   ]
  },
  {
   "cell_type": "markdown",
   "id": "3efc89d9",
   "metadata": {},
   "source": [
    "## Test the MobileNetV2 model"
   ]
  },
  {
   "cell_type": "code",
   "execution_count": 14,
   "id": "03608762",
   "metadata": {},
   "outputs": [],
   "source": [
    "# Load saved model\n",
    "model_file = 'mobilenet_5feature_model.keras' # change to the model file path\n",
    "mobilenet_model = keras.models.load_model(model_file,compile=False)"
   ]
  },
  {
   "cell_type": "code",
   "execution_count": 15,
   "id": "dcfc2f6f",
   "metadata": {},
   "outputs": [
    {
     "name": "stderr",
     "output_type": "stream",
     "text": [
      "c:\\Users\\zhouj\\AppData\\Local\\Programs\\Python\\Python310\\lib\\site-packages\\keras\\src\\saving\\saving_lib.py:576: UserWarning: Skipping variable loading for optimizer 'rmsprop', because it has 166 variables whereas the saved optimizer has 329 variables. \n",
      "  saveable.load_own_variables(weights_store.get(inner_path))\n"
     ]
    },
    {
     "name": "stdout",
     "output_type": "stream",
     "text": [
      "\u001b[1m34/34\u001b[0m \u001b[32m━━━━━━━━━━━━━━━━━━━━\u001b[0m\u001b[37m\u001b[0m \u001b[1m148s\u001b[0m 4s/step - AUC: 0.4459 - AUCPR: 0.0384 - BinaryAccuracy: 0.9553 - F1: 0.0514 - FalseNegatives: 88.1429 - FalsePositives: 17.6286 - Precision: 0.1552 - Recall: 0.0311 - TrueNegatives: 2187.6572 - TruePositives: 2.1143 - loss: 0.0075\n"
     ]
    },
    {
     "name": "stderr",
     "output_type": "stream",
     "text": [
      "INFO:root:{'AUC': 0.44930654764175415, 'AUCPR': 0.03507734835147858, 'BinaryAccuracy': 0.9529053568840027, 'TruePositives': 3.0, 'FalsePositives': 31.0, 'TrueNegatives': 4064.0, 'FalseNegatives': 170.0, 'Precision': 0.0882352963089943, 'Recall': 0.017341040074825287, 'F1': 0.028985481709241867}\n"
     ]
    }
   ],
   "source": [
    "# Build a test set\n",
    "ds_test = get_dataloader(\"keras\", DATA_ROOT, [2021], \"test\", 128, {}, select_keys=ALL_VARIABLES + ['range_folded_mask', 'coordinates'])\n",
    "\n",
    "evalate_model(mobilenet_model, ds_test)\n"
   ]
  }
 ],
 "metadata": {
  "kernelspec": {
   "display_name": "Python 3 (ipykernel)",
   "language": "python",
   "name": "python3"
  },
  "language_info": {
   "codemirror_mode": {
    "name": "ipython",
    "version": 3
   },
   "file_extension": ".py",
   "mimetype": "text/x-python",
   "name": "python",
   "nbconvert_exporter": "python",
   "pygments_lexer": "ipython3",
   "version": "3.10.0"
  }
 },
 "nbformat": 4,
 "nbformat_minor": 5
}
